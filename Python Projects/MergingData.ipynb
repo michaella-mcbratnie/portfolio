{
 "cells": [
  {
   "cell_type": "code",
   "execution_count": 32,
   "metadata": {},
   "outputs": [
    {
     "name": "stdout",
     "output_type": "stream",
     "text": [
      "                              Region          Country  Item Type  \\\n",
      "0  Central America and the Caribbean          Grenada     Snacks   \n",
      "1              Australia and Oceania            Palau       Meat   \n",
      "2                               Asia           Brunei  Baby Food   \n",
      "3              Australia and Oceania  Solomon Islands  Cosmetics   \n",
      "4                             Europe            Spain  Cosmetics   \n",
      "\n",
      "  Sales Channel Order Priority Order Date   Order ID  Ship Date  Units Sold  \\\n",
      "0       Offline              C 2017-01-01  813456332 2017-01-16        8660   \n",
      "1       Offline              M 2017-01-01  144055068 2017-02-08        7951   \n",
      "2        Online              M 2017-01-02  588643443 2017-02-11        1531   \n",
      "3        Online              M 2017-01-02  343482244 2017-02-18        2884   \n",
      "4       Offline              C 2017-01-03  391026866 2017-01-08        2394   \n",
      "\n",
      "   Unit Price  Unit Cost  \n",
      "0      152.58      97.44  \n",
      "1      421.89     364.69  \n",
      "2      255.28     159.42  \n",
      "3      437.20     263.33  \n",
      "4      437.20     263.33  \n",
      "                              Region          Country  Item Type  \\\n",
      "0  Central America and the Caribbean          Grenada     Snacks   \n",
      "1              Australia and Oceania            Palau       Meat   \n",
      "2                               Asia           Brunei  Baby Food   \n",
      "3              Australia and Oceania  Solomon Islands  Cosmetics   \n",
      "4                             Europe            Spain  Cosmetics   \n",
      "\n",
      "  Sales Channel Order Priority Order Date   Order ID  Ship Date  Units Sold  \\\n",
      "0       Offline              C 2017-01-01  813456332 2017-01-16        8660   \n",
      "1       Offline              M 2017-01-01  144055068 2017-02-08        7951   \n",
      "2        Online              M 2017-01-02  588643443 2017-02-11        1531   \n",
      "3        Online              M 2017-01-02  343482244 2017-02-18        2884   \n",
      "4       Offline              C 2017-01-03  391026866 2017-01-08        2394   \n",
      "\n",
      "   Unit Price  Unit Cost  Total Revenue  Total Cost  Total Profit  year  \n",
      "0      152.58      97.44     1321342.80   843830.40     477512.40  2017  \n",
      "1      421.89     364.69     3354447.39  2899650.19     454797.20  2017  \n",
      "2      255.28     159.42      390833.68   244072.02     146761.66  2017  \n",
      "3      437.20     263.33     1260884.80   759443.72     501441.08  2017  \n",
      "4      437.20     263.33     1046656.80   630412.02     416244.78  2017  \n"
     ]
    }
   ],
   "source": [
    "#This document creates calculated values for one year of Sales data. Than imports and merges all years of data into a single dataframe \n",
    "import pandas as pd\n",
    "\n",
    "sales = []\n",
    "sales2017 = pd.read_excel('/Users/Kayla/Projects/Data Science Learning/Sales/Sales2017.xlsx', header=0)\n",
    "print(sales2017.head())\n",
    "sales2017['Total Revenue'] =  sales2017['Units Sold']*sales2017['Unit Price']\n",
    "sales2017['Total Cost'] = sales2017['Units Sold']* sales2017['Unit Cost']\n",
    "sales2017['Total Profit']= sales2017['Total Revenue']-sales2017['Total Cost']\n",
    "sales2017['year']= '2017'\n",
    "print(sales2017.head())\n",
    "\n",
    "    "
   ]
  },
  {
   "cell_type": "code",
   "execution_count": 33,
   "metadata": {},
   "outputs": [
    {
     "name": "stdout",
     "output_type": "stream",
     "text": [
      "0    2010\n",
      "1    2011\n",
      "2    2012\n",
      "3    2013\n",
      "4    2014\n",
      "5    2015\n",
      "6    2016\n",
      "Name: Year, dtype: int64\n",
      "                           Region               Country        Item Type  \\\n",
      "0                          Europe         Liechtenstein           Cereal   \n",
      "1              Sub-Saharan Africa          Sierra Leone        Beverages   \n",
      "2    Middle East and North Africa               Lebanon        Beverages   \n",
      "3                          Europe               Hungary        Baby Food   \n",
      "4    Middle East and North Africa                Israel        Cosmetics   \n",
      "..                            ...                   ...              ...   \n",
      "358         Australia and Oceania               Vanuatu  Office Supplies   \n",
      "359            Sub-Saharan Africa               Senegal        Cosmetics   \n",
      "360  Middle East and North Africa  United Arab Emirates        Household   \n",
      "361         Australia and Oceania             Australia        Beverages   \n",
      "362                          Asia                Bhutan           Cereal   \n",
      "\n",
      "    Sales Channel Order Priority Order Date   Order ID  Ship Date  Units Sold  \\\n",
      "0          Online              L 2010-01-01  940682303 2010-02-09        7652   \n",
      "1          Online              H 2010-01-01  872081267 2010-01-12        7081   \n",
      "2         Offline              L 2010-01-01  770144021 2010-01-21        1585   \n",
      "3         Offline              C 2010-01-01  279703605 2010-01-10        9367   \n",
      "4         Offline              L 2010-01-01  570716845 2010-01-13        6652   \n",
      "..            ...            ...        ...        ...        ...         ...   \n",
      "358        Online              C 2017-07-24  480310952 2017-08-11        3539   \n",
      "359        Online              C 2017-07-26  537970721 2017-08-18        6346   \n",
      "360        Online              C 2017-07-26  419542396 2017-08-08         773   \n",
      "361        Online              L 2017-07-26  631485402 2017-08-12        9418   \n",
      "362       Offline              M 2017-07-28  223854434 2017-08-25        2356   \n",
      "\n",
      "     Unit Price  Unit Cost  Total Revenue  Total Cost  Total Profit  year  \n",
      "0        205.70     117.11     1574016.40   896125.72     677890.68  2010  \n",
      "1         47.45      31.79      335993.45   225104.99     110888.46  2010  \n",
      "2         47.45      31.79       75208.25    50387.15      24821.10  2010  \n",
      "3        255.28     159.42     2391207.76  1493287.14     897920.62  2010  \n",
      "4        437.20     263.33     2908254.40  1751671.16    1156583.24  2010  \n",
      "..          ...        ...            ...         ...           ...   ...  \n",
      "358      651.21     524.96     2304632.19  1857833.44     446798.75  2017  \n",
      "359      437.20     263.33     2774471.20  1671092.18    1103379.02  2017  \n",
      "360      668.27     502.54      516572.71   388463.42     128109.29  2017  \n",
      "361       47.45      31.79      446884.10   299398.22     147485.88  2017  \n",
      "362      205.70     117.11      484629.20   275911.16     208718.04  2017  \n",
      "\n",
      "[5000 rows x 15 columns]\n"
     ]
    }
   ],
   "source": [
    "sales_dict = {}\n",
    "sale_year = pd.read_excel('/Users/Kayla/Projects/Data Science Learning/Sales/SalesYear.xlsx')\n",
    "sale_year =  sale_year[['Year']]\n",
    "print(sale_year['Year'])\n",
    "\n",
    "for year in sale_year['Year']:\n",
    "    file_name = '/Users/Kayla/Projects/Data Science Learning/Sales/Sales{:d}.xlsx'.format(year)\n",
    "    sales_dict[year] = pd.read_excel(file_name, header=0)\n",
    "    sales_dict[year]['year'] = year #Creating a column to track which file\n",
    "\n",
    "sales_df = pd.concat(sales_dict, ignore_index=True)\n",
    "\n",
    "sales_df2 = sales_df.append(sales2017)\n",
    "print(sales_df2)"
   ]
  },
  {
   "cell_type": "code",
   "execution_count": null,
   "metadata": {},
   "outputs": [],
   "source": []
  }
 ],
 "metadata": {
  "kernelspec": {
   "display_name": "Python 3",
   "language": "python",
   "name": "python3"
  },
  "language_info": {
   "codemirror_mode": {
    "name": "ipython",
    "version": 3
   },
   "file_extension": ".py",
   "mimetype": "text/x-python",
   "name": "python",
   "nbconvert_exporter": "python",
   "pygments_lexer": "ipython3",
   "version": "3.8.3"
  }
 },
 "nbformat": 4,
 "nbformat_minor": 4
}
